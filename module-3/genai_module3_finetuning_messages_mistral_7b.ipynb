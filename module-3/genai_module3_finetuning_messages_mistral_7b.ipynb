{
 "metadata": {
  "kernelspec": {
   "display_name": "Streamlit Notebook",
   "name": "streamlit"
  }
 },
 "nbformat_minor": 5,
 "nbformat": 4,
 "cells": [
  {
   "cell_type": "markdown",
   "id": "b5727103-e592-4879-bb1f-5f7384994e46",
   "metadata": {
    "collapsed": false,
    "name": "cell0",
    "resultHeight": 74
   },
   "source": [
    "# Preview Support Tickets"
   ]
  },
  {
   "cell_type": "code",
   "execution_count": null,
   "id": "cb7310e0-4362-4cd2-bad9-fd70854ef709",
   "metadata": {
    "codeCollapsed": false,
    "collapsed": false,
    "language": "python",
    "name": "cell1",
    "resultHeight": 0
   },
   "outputs": [],
   "source": "from snowflake.snowpark.context import get_active_session\nimport snowflake.snowpark.functions as F\nimport streamlit as st\nsession = get_active_session()"
  },
  {
   "cell_type": "code",
   "id": "4e462120-ae80-4ab6-bce3-1025164f3705",
   "metadata": {
    "language": "sql",
    "name": "cell21",
    "collapsed": false,
    "resultHeight": 112
   },
   "outputs": [],
   "source": "use database GENAI_MODULE3_FINETUNE;\nuse schema DATA;",
   "execution_count": null
  },
  {
   "cell_type": "code",
   "id": "5cc43b0f-f99d-4790-b4f7-eb56c0dbfe2f",
   "metadata": {
    "language": "python",
    "name": "cell16",
    "collapsed": false,
    "resultHeight": 439
   },
   "outputs": [],
   "source": "df_support_tickets = session.table('SUPPORT_TICKETS')\ndf_support_tickets",
   "execution_count": null
  },
  {
   "cell_type": "markdown",
   "id": "1a34347c-0a82-4cac-950a-1b9c848c6200",
   "metadata": {
    "collapsed": false,
    "name": "cell13",
    "resultHeight": 60
   },
   "source": "## Custom email or text reponse generation for support tickets using LLMs"
  },
  {
   "cell_type": "code",
   "id": "61d5f948-7fe4-482c-b178-00e90a327e18",
   "metadata": {
    "language": "python",
    "name": "cell9",
    "collapsed": false,
    "resultHeight": 0
   },
   "outputs": [],
   "source": "prompt = \"\"\"Please write an email or text promoting a new plan that will save customers total costs. \nAlso resolve the customer issue based on the ticket category. \nIf the contact_preference is text message, write text message response in less than 25 words. \nIf the contact_preference is email, write email response in maximum 100 words.\nWrite only email or text message response based on the contact_preference for every customer.\n\"\"\"",
   "execution_count": null
  },
  {
   "cell_type": "code",
   "id": "a894e3a1-ec1d-4933-ba66-956db6986d0e",
   "metadata": {
    "language": "python",
    "name": "cell24",
    "collapsed": false,
    "resultHeight": 0
   },
   "outputs": [],
   "source": "ticket_categories = ['Roaming fees', 'Slow data speed', 'Lost phone', 'Add new line', 'Closing account']",
   "execution_count": null
  },
  {
   "cell_type": "markdown",
   "id": "5d1c1dab-ae52-4cb6-9dbc-5a91ca2fac10",
   "metadata": {
    "name": "cell14",
    "collapsed": false,
    "resultHeight": 60
   },
   "source": "## Mistral-7b response"
  },
  {
   "cell_type": "code",
   "id": "4954d50e-58db-4781-8d15-014a09b843ce",
   "metadata": {
    "language": "python",
    "name": "cell28",
    "collapsed": false,
    "resultHeight": 439
   },
   "outputs": [],
   "source": "df_mistral_7b_response_sql = f\"\"\" select ticket_id, \nsnowflake.cortex.classify_text(request, {ticket_categories}) as ticket_category,\ncontact_preference, \ntrim(snowflake.cortex.complete('mistral-7b',concat('{prompt}', request, ticket_category, contact_preference)),'\\n') \n    as mistral_7b_response\nfrom SUPPORT_TICKETS\"\"\"\n\ndf_mistral_7b_response = session.sql(df_mistral_7b_response_sql)\ndf_mistral_7b_response",
   "execution_count": null
  },
  {
   "cell_type": "markdown",
   "id": "3b38e140-412f-461a-a411-d65b8c446d81",
   "metadata": {
    "name": "cell31",
    "collapsed": false,
    "resultHeight": 60
   },
   "source": "## mistral-large response"
  },
  {
   "cell_type": "code",
   "id": "e38557d9-9e4b-4f1f-8ee5-28b47a97b5ad",
   "metadata": {
    "language": "python",
    "name": "cell23",
    "collapsed": false,
    "resultHeight": 439
   },
   "outputs": [],
   "source": "mistral_large_response_sql = f\"\"\" select ticket_id, \nsnowflake.cortex.classify_text(request, {ticket_categories}) as ticket_category,\ncontact_preference, \ntrim(snowflake.cortex.complete('mistral-large',concat('{prompt}', request, ticket_category, contact_preference)),'\\n') \n    as mistral_large_response\nfrom SUPPORT_TICKETS\"\"\"\n\ndf_mistral_large_response = session.sql(mistral_large_response_sql)\ndf_mistral_large_response",
   "execution_count": null
  },
  {
   "cell_type": "markdown",
   "id": "7f8cd51b-96d8-44d5-adc4-50a1b62fc914",
   "metadata": {
    "collapsed": false,
    "name": "cell10",
    "resultHeight": 74
   },
   "source": [
    "# Generate dataset to fine-tune mistral-7b"
   ]
  },
  {
   "cell_type": "code",
   "id": "ffa07665-65a4-4456-8c43-85b5c7091b31",
   "metadata": {
    "language": "python",
    "name": "cell5",
    "collapsed": false,
    "resultHeight": 439
   },
   "outputs": [],
   "source": "# Stage 1: Filter by CONTACT_PREFERENCE\ndf_text = df_mistral_large_response.filter(F.col(\"CONTACT_PREFERENCE\") == 'Text Message')\ndf_email = df_mistral_large_response.filter(F.col(\"CONTACT_PREFERENCE\") == \"Email\")\n\n# Stage 2: Apply word count logic\ndf_text_filtered = df_text.filter(F.regexp_count(F.col(\"MISTRAL_LARGE_RESPONSE\"), r\" \") <= 25)\ndf_email_filtered = df_email.filter(F.regexp_count(F.col(\"MISTRAL_LARGE_RESPONSE\"), r\" \") > 30)\n\n# Combine the results\ndf_filtered = df_text_filtered.union(df_email_filtered)\n\ndf_filtered",
   "execution_count": null
  },
  {
   "cell_type": "code",
   "id": "e5cac625-2b29-4dcc-a802-ddefb6c28a2d",
   "metadata": {
    "language": "python",
    "name": "cell30",
    "collapsed": false,
    "resultHeight": 439
   },
   "outputs": [],
   "source": "df_filtered.write.save_as_table(\"SUPPORT_TICKET_RESPONSES\", mode=\"overwrite\")  # \"overwrite\" can be changed to \"append\"\n\n# Optional: Show the saved table to verify\nsaved_df = session.table(\"SUPPORT_TICKET_RESPONSES\")\nsaved_df",
   "execution_count": null
  },
  {
   "cell_type": "code",
   "execution_count": null,
   "id": "139c2111-f220-4be2-b907-4b2a140fdea4",
   "metadata": {
    "codeCollapsed": false,
    "collapsed": false,
    "language": "python",
    "name": "cell2",
    "resultHeight": 0
   },
   "outputs": [],
   "source": "df_fine_tune = saved_df.with_column(\"prompt\", \n                                    F.concat(F.lit(prompt), \n                                             F.lit(\" \"), \n                                             F.lit(\"Contact preference: \"),\n                                             F.col(\"contact_preference\"), \n                                             F.lit(\" \"),\n                                             F.col(\"ticket_category\")))\\\n                        .select(\"ticket_id\",\n                                \"prompt\",\n                                \"mistral_large_response\")\n\ndf_fine_tune.write.mode('overwrite').save_as_table('support_tickets_finetune_message_style')"
  },
  {
   "cell_type": "markdown",
   "id": "5ce01346-2b85-425f-9675-d3a2626c27f6",
   "metadata": {
    "collapsed": false,
    "name": "cell6",
    "resultHeight": 135
   },
   "source": [
    "# Fine-tune mistral-7b\n",
    "\n",
    "## Split data into training and evaluation"
   ]
  },
  {
   "cell_type": "code",
   "execution_count": null,
   "id": "07123242-032c-4c28-aa00-be737c45af80",
   "metadata": {
    "codeCollapsed": false,
    "collapsed": false,
    "language": "python",
    "name": "cell4",
    "resultHeight": 0
   },
   "outputs": [],
   "source": "train_df, eval_df = session.table(\"support_tickets_finetune_message_style\").random_split(weights=[0.8, 0.2], seed=42)\n\ntrain_df.write.mode('overwrite').save_as_table('support_tickets_finetune_message_style_train')\neval_df.write.mode('overwrite').save_as_table('support_tickets_finetune_message_style_eval')"
  },
  {
   "cell_type": "code",
   "execution_count": null,
   "id": "0c86dfda-75f7-451d-bf1b-2e19b0d938a5",
   "metadata": {
    "collapsed": false,
    "language": "python",
    "name": "cell17",
    "resultHeight": 245
   },
   "outputs": [],
   "source": "session.table('support_tickets_finetune_message_style_train').show(1)"
  },
  {
   "cell_type": "code",
   "execution_count": null,
   "id": "dc07d19f-415e-4f5a-bc6d-c6fe3b046577",
   "metadata": {
    "collapsed": false,
    "language": "python",
    "name": "cell18",
    "resultHeight": 245
   },
   "outputs": [],
   "source": "session.table('support_tickets_finetune_message_style_eval').show(1)"
  },
  {
   "cell_type": "markdown",
   "id": "c8b34618-1fce-4bd7-b715-ccccac5e1eae",
   "metadata": {
    "collapsed": false,
    "name": "cell8",
    "resultHeight": 60
   },
   "source": [
    "## *Fine-tune mistral-7b model using Cortex*"
   ]
  },
  {
   "cell_type": "code",
   "execution_count": null,
   "id": "e00144d1-0e22-4e08-aeae-a46e47541703",
   "metadata": {
    "collapsed": false,
    "language": "sql",
    "name": "cell12",
    "resultHeight": 112
   },
   "outputs": [],
   "source": "select snowflake.cortex.finetune('CREATE', \n'SUPPORT_MESSAGES_FINETUNED_MISTRAL_7B', \n'mistral-7b', \n'SELECT prompt, mistral_large_response as completion from support_tickets_finetune_message_style_train',\n'SELECT prompt, mistral_large_response as completion from support_tickets_finetune_message_style_eval');"
  },
  {
   "cell_type": "markdown",
   "id": "1db774c3-b9cc-444e-84b5-7de8e61d680a",
   "metadata": {
    "collapsed": false,
    "name": "cell20",
    "resultHeight": 46
   },
   "source": [
    "### See status of the fine tuning job"
   ]
  },
  {
   "cell_type": "code",
   "execution_count": null,
   "id": "a21516fe-e328-4793-9953-7d5d6b7e616c",
   "metadata": {
    "collapsed": false,
    "language": "sql",
    "name": "cell19",
    "resultHeight": 112
   },
   "outputs": [],
   "source": "select snowflake.cortex.finetune('DESCRIBE', 'CortexFineTuningWorkflow_6c475d8a-2b7a-4b96-b51c-78a7a2813e9e');"
  },
  {
   "cell_type": "markdown",
   "id": "2c6c7a29-681b-43c1-b977-f4cacceed5bf",
   "metadata": {
    "collapsed": false,
    "name": "cell11",
    "resultHeight": 74
   },
   "source": [
    "# Inference using fine-tuned model"
   ]
  },
  {
   "cell_type": "code",
   "id": "abb461ab-f107-4136-b000-e3a4792ac7f8",
   "metadata": {
    "language": "python",
    "name": "cell15",
    "collapsed": false,
    "resultHeight": 439
   },
   "outputs": [],
   "source": "fine_tuned_model_name = 'SUPPORT_MESSAGES_FINETUNED_MISTRAL_7B'\n\nsql = f\"\"\" select ticket_id, \nsnowflake.cortex.classify_text(request, {ticket_categories}) as ticket_category,\ncontact_preference, \ntrim(snowflake.cortex.complete('{fine_tuned_model_name}',concat('{prompt}', request, ticket_category, contact_preference)),'\\n') \n    as fine_tuned_mistral_7b_model_response\nfrom SUPPORT_TICKETS\"\"\"\n\ndf_fine_tuned_mistral_7b_response = session.sql(sql)\ndf_fine_tuned_mistral_7b_response",
   "execution_count": null
  },
  {
   "cell_type": "markdown",
   "id": "49adff6f-6e67-440c-a260-f6f857a9ec22",
   "metadata": {
    "collapsed": false,
    "name": "cell27",
    "resultHeight": 74
   },
   "source": [
    "# Auto-generate custom emails and text messages"
   ]
  },
  {
   "cell_type": "markdown",
   "id": "5c07bb19-fd7e-47f8-b99d-43d6c65241d9",
   "metadata": {
    "collapsed": false,
    "name": "cell7",
    "resultHeight": 60
   },
   "source": [
    "## Streamlit application to auto-generate custom emails and text messages"
   ]
  },
  {
   "cell_type": "code",
   "id": "54ef1f18-b751-4224-a095-e800699800b4",
   "metadata": {
    "language": "python",
    "name": "cell25",
    "collapsed": false,
    "resultHeight": 3304
   },
   "outputs": [],
   "source": "st.subheader(\"Auto-generate custom emails or text messages\")\n\nwith st.container():\n    with st.expander(\"Edit prompt and select LLM\", expanded=True):\n        entered_prompt = st.text_area('Prompt',\"\"\"Please write an email or text promoting a new plan that will save customers total costs. If the customer requested to be contacted by text message, write text message response in less than 25 words, otherwise write email response in maximum 100 words.\"\"\")\n    \n        with st.container():\n            left_col, mid_col, right_col = st.columns(3)\n            with left_col:\n                selected_category = st.selectbox('Select category',('Roaming fees', 'Closing account', 'Add new line', 'Slow data speed'))\n            with mid_col:\n                selected_preference = st.selectbox('Select contact preference', ('Text message', 'Email'))\n            with right_col:\n                selected_llm = st.selectbox('Select LLM',('llama3-8b', 'mistral-7b', 'mistral-large', 'SUPPORT_MESSAGES_FINETUNED_MISTRAL_7B',))\n\nwith st.container():\n    _,mid_col,_ = st.columns([.4,.3,.3])\n    with mid_col:\n        generate_template = st.button('Generate messages ⚡',type=\"primary\")\n\nwith st.container():\n    if generate_template:\n        sql = f\"\"\"select s.ticket_id, s.customer_name, concat(IFF(s.contact_preference = 'Email', '📩', '📲'), ' ', s.contact_preference) as contact_preference, snowflake.cortex.complete('{selected_llm}',\n        concat('{entered_prompt}','Here is the customer information: Name: ',customer_name,', Contact preference: ', contact_preference))\n        as llm_response from support_tickets as s join support_tickets_train as t on s.ticket_id = t.ticket_id limit 10\"\"\"\n\n        with st.status(\"In progress...\") as status:\n            df_llm_response = session.sql(sql).to_pandas()\n            st.subheader(\"LLM-generated emails and text messages\")\n            for row in df_llm_response.itertuples():\n                status.caption(f\"Ticket ID: `{row.TICKET_ID}`\")\n                status.caption(f\"To: {row.CUSTOMER_NAME}\")\n                status.caption(f\"Contact through: {row.CONTACT_PREFERENCE}\")\n                status.markdown(row.LLM_RESPONSE.replace(\"--\", \"\"))\n                status.divider()\n            status.update(label=\"Done!\", state=\"complete\", expanded=True)",
   "execution_count": null
  }
 ]
}