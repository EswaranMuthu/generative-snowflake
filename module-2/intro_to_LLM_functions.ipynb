{
 "metadata": {
  "kernelspec": {
   "display_name": "Streamlit Notebook",
   "name": "streamlit"
  }
 },
 "nbformat_minor": 5,
 "nbformat": 4,
 "cells": [
  {
   "cell_type": "markdown",
   "id": "c37f4892-bc2f-4250-98a2-d7e20f5edfe0",
   "metadata": {
    "name": "cell9",
    "collapsed": false,
    "resultHeight": 74
   },
   "source": "# Setup"
  },
  {
   "cell_type": "code",
   "id": "3775908f-ca36-4846-8f38-5adca39217f2",
   "metadata": {
    "language": "python",
    "name": "cell1",
    "collapsed": false,
    "resultHeight": 0,
    "codeCollapsed": false
   },
   "source": "# set up snowpark session\nfrom snowflake.snowpark.context import get_active_session\nsession = get_active_session()",
   "execution_count": null,
   "outputs": []
  },
  {
   "cell_type": "markdown",
   "id": "b6d74cd3-5c0b-4aed-8770-d60c3328e28d",
   "metadata": {
    "name": "cell21",
    "collapsed": false,
    "resultHeight": 74
   },
   "source": "# Introduction to Complete"
  },
  {
   "cell_type": "code",
   "id": "ee4d1a1b-fe0a-46b0-91cf-476492a48f22",
   "metadata": {
    "language": "python",
    "name": "cell4",
    "resultHeight": 664,
    "codeCollapsed": false,
    "collapsed": false
   },
   "outputs": [],
   "source": "from snowflake.cortex import Complete\n\nComplete(\"llama3.1-405b\", \"how do snowflakes get their unique patterns?\")",
   "execution_count": null
  },
  {
   "cell_type": "markdown",
   "id": "4a6a8838-3a3a-49a8-9da4-5f44394a163f",
   "metadata": {
    "name": "cell20",
    "collapsed": false,
    "resultHeight": 74
   },
   "source": "# Introduction to Task-specific Functions"
  },
  {
   "cell_type": "code",
   "id": "aafda587-453f-4792-bbe6-a51ca52b2b6a",
   "metadata": {
    "language": "python",
    "name": "cell5",
    "resultHeight": 54,
    "codeCollapsed": false,
    "collapsed": false
   },
   "outputs": [],
   "source": "from snowflake.cortex import Translate\n\nTranslate(\"Snowflakes get their unique patterns through a combination of temperature, humidity, and air currents in the atmosphere.\", \"en\", \"fr\")",
   "execution_count": null
  },
  {
   "cell_type": "code",
   "id": "86d00d4b-e79f-476e-8aa5-c74cbaa1f8d1",
   "metadata": {
    "language": "python",
    "name": "cell12",
    "resultHeight": 54,
    "collapsed": false
   },
   "outputs": [],
   "source": "from snowflake.cortex import Translate\n\nTranslate(\"Les flocons de neige obtiennent leurs modèles uniques grâce à une combinaison de température, d’humidité et de courants atmosphériques.\", \"\", \"en\")",
   "execution_count": null
  },
  {
   "cell_type": "markdown",
   "id": "27b007b3-d703-413c-a69c-449057ecf413",
   "metadata": {
    "name": "cell18",
    "collapsed": false,
    "resultHeight": 74
   },
   "source": "# Create data for batch analysis"
  },
  {
   "cell_type": "code",
   "id": "11b3ad8b-2f59-4c94-b8e0-d7272f40fd51",
   "metadata": {
    "language": "sql",
    "name": "cell14",
    "resultHeight": 112,
    "codeCollapsed": false,
    "collapsed": false
   },
   "outputs": [],
   "source": "-- Create the table\nCREATE OR REPLACE TABLE call_transcripts (\n    CallID INT, \n    Transcript VARCHAR\n);\n\n-- Insert values into the table\nINSERT INTO call_transcripts VALUES\n    (1, 'The billing system is fantastic! It''s so clear and easy to use.'),\n    (2, 'Your billing department is a disaster! I''ve been overcharged three times this month.'),\n    (3, 'Adding a new line was so smooth! Your team made it a breeze.'),\n    (4, 'I''ve never had such a horrible time trying to add a new line. The process is broken.'),\n    (5, 'The roaming fee explanation was perfect! I appreciate the clarity.'),\n    (6, 'These roaming fees are outrageous! I can''t believe how much I was charged.'),\n    (7, 'Billing support was amazing! They resolved my issue within minutes.'),\n    (8, 'Adding a new line has been an absolute nightmare. I regret ever trying.'),\n    (9, 'I''m impressed by how helpful the roaming fee customer service was. They answered everything.'),\n    (10, 'I''ve never been this disappointed with roaming charges. It''s completely unfair.');",
   "execution_count": null
  },
  {
   "cell_type": "markdown",
   "id": "165cb043-496c-49c1-bf73-18897689944f",
   "metadata": {
    "name": "cell19",
    "collapsed": false,
    "resultHeight": 74
   },
   "source": "# Sentiment"
  },
  {
   "cell_type": "code",
   "id": "0add9369-43f3-4f36-88f5-0c4c4c939e91",
   "metadata": {
    "language": "sql",
    "name": "cell16",
    "resultHeight": 427,
    "codeCollapsed": false,
    "collapsed": false
   },
   "outputs": [],
   "source": "CREATE OR REPLACE TABLE call_transcripts AS\nSELECT *, SNOWFLAKE.CORTEX.SENTIMENT(transcript) AS SENTIMENT\nFROM call_transcripts;\n\nSELECT * FROM call_transcripts LIMIT 10;",
   "execution_count": null
  },
  {
   "cell_type": "markdown",
   "id": "88aafa5d-e610-4ab8-a494-3aafd4d40030",
   "metadata": {
    "name": "cell13",
    "collapsed": false,
    "resultHeight": 74
   },
   "source": "# Summarize"
  },
  {
   "cell_type": "code",
   "id": "6c1ef790-572f-42b1-aa55-b33953c42bd3",
   "metadata": {
    "language": "python",
    "name": "cell15",
    "codeCollapsed": false,
    "resultHeight": 60,
    "collapsed": false
   },
   "outputs": [],
   "source": "from snowflake.cortex import Summarize\n\ntext = \"\"\"\nA snowflake is a single ice crystal that has achieved a sufficient size, and may have amalgamated with others, which falls through the Earth's atmosphere as snow.\nEach flake nucleates around a tiny particle in supersaturated air masses by attracting supercooled cloud water droplets, which freeze and accrete in crystal form. \nSnow appears white in color despite being made of clear ice. \nThis is due to diffuse reflection of the whole spectrum of light by the small crystal facets of the snowflakes.\n\"\"\"\n\nSummarize(text)\n",
   "execution_count": null
  },
  {
   "cell_type": "markdown",
   "id": "7bd3ad0b-71db-45fb-b998-db88a498eca9",
   "metadata": {
    "name": "cell22",
    "collapsed": false,
    "resultHeight": 74
   },
   "source": "# Text Classification"
  },
  {
   "cell_type": "code",
   "id": "7c0215de-1f2c-4167-9920-aff6615811e9",
   "metadata": {
    "language": "sql",
    "name": "cell17",
    "codeCollapsed": false,
    "resultHeight": 427
   },
   "outputs": [],
   "source": "SELECT *,\nSNOWFLAKE.CORTEX.CLASSIFY_TEXT(transcript, ['Billing','Add new line', 'Roaming fees']) AS text_classify_output\nFROM call_transcripts;",
   "execution_count": null
  },
  {
   "cell_type": "code",
   "id": "8d2209ea-5679-489f-bfbd-a6226671ae44",
   "metadata": {
    "language": "sql",
    "name": "cell23",
    "resultHeight": 427,
    "codeCollapsed": false,
    "collapsed": false
   },
   "outputs": [],
   "source": "SELECT *,\nSNOWFLAKE.CORTEX.CLASSIFY_TEXT(\n  transcript,\n  [\n    {\n      'label': 'Billing',\n      'description': 'questions or issues related to billing',\n      'examples': [\n        'Hi, I noticed an extra charge on my account this month. Could you please clarify what it’s for?',\n        'I need help updating my payment method. My current card is no longer valid.',\n        'Can you explain why my subscription fee increased this month? I wasn’t notified of any changes.'\n      ]\n    },\n    {\n      'label': 'Add new line',\n      'description': 'questions or issues related to adding a new phone line or service',\n      'examples': [\n        'I’d like to add a new line to my account. Can you help with the process?',\n        'What’s the cost of adding a new line to my current plan?',\n        'I need to add a line for my family member. Can you assist with the setup?'\n      ]\n    },\n    {\n      'label': 'Roaming fees',\n      'description': 'questions or issues related to roaming charges on a phone plan',\n      'examples': [\n        'Why was I charged for roaming while traveling abroad?',\n        'Can you explain how international roaming works on my plan?',\n        'I noticed unexpected charges for roaming. Can you clarify these?'\n      ]\n    }\n  ],\n  {'task_description': 'Return a classification of the type of issue described in the request'}\n) AS text_classify_output\nFROM call_transcripts;\n",
   "execution_count": null
  },
  {
   "cell_type": "code",
   "id": "590311f3-82bc-4448-94c5-69f006273a4d",
   "metadata": {
    "language": "python",
    "name": "cell24",
    "resultHeight": 99,
    "collapsed": false
   },
   "outputs": [],
   "source": "from snowflake.cortex import ClassifyText\n\nClassifyText(\"How can I buy a ticket for the Subway?\", [\"how to\", \"recommendations\"])",
   "execution_count": null
  },
  {
   "cell_type": "code",
   "id": "a9d7eef1-27ce-4c50-b151-d406dcb3c9c0",
   "metadata": {
    "language": "python",
    "name": "cell25",
    "codeCollapsed": false,
    "resultHeight": 99,
    "collapsed": false
   },
   "outputs": [],
   "source": "ClassifyText(\"What is the best broadway show to see right now?\", [\"how to\", \"recommendations\"])",
   "execution_count": null
  },
  {
   "cell_type": "markdown",
   "id": "456bf475-5bb7-454f-8d89-a942b1763613",
   "metadata": {
    "name": "cell26",
    "collapsed": false,
    "resultHeight": 74
   },
   "source": "# Using Complete"
  },
  {
   "cell_type": "code",
   "id": "bbcb4a42-002a-4385-a619-1c677faca131",
   "metadata": {
    "language": "python",
    "name": "cell27",
    "resultHeight": 261,
    "collapsed": false
   },
   "outputs": [],
   "source": "from snowflake.cortex import Complete\n\nComplete(\"llama3.1-405b\", \"¿Cómo adquieren los copos de nieve su forma única?\")",
   "execution_count": null
  },
  {
   "cell_type": "markdown",
   "id": "144d2ad8-5839-484c-97db-54788f3135cb",
   "metadata": {
    "name": "cell34",
    "collapsed": false,
    "resultHeight": 74
   },
   "source": "# Options: Cortex Guard"
  },
  {
   "cell_type": "code",
   "id": "6fa32811-428b-4696-a0f1-fd3c106d1c9a",
   "metadata": {
    "language": "python",
    "name": "cell29",
    "resultHeight": 373,
    "codeCollapsed": false
   },
   "outputs": [],
   "source": "messages = [\n    {'role': 'system', 'content': 'You are a helpful assistant that answers programming questions in the style of a rancher from the western United States.' },\n    {'role': 'user', 'content': 'Are semicolons optional in JavaScript?'}\n]\n\noptions = {\n    'guardrails': True,\n}\n\nComplete(\"llama3.1-405b\", messages, options = options)",
   "execution_count": null
  },
  {
   "cell_type": "markdown",
   "id": "e8209113-4c20-4394-bb58-045fc19020cb",
   "metadata": {
    "name": "cell35",
    "collapsed": false,
    "resultHeight": 74
   },
   "source": "# Multi-turn chat"
  },
  {
   "cell_type": "code",
   "id": "96d1ff80-9bc1-4819-a77c-3de71ff1ed21",
   "metadata": {
    "language": "python",
    "name": "cell30",
    "resultHeight": 373,
    "codeCollapsed": false
   },
   "outputs": [],
   "source": "messages_with_history = [\n    {'role': 'system', 'content': 'You are a helpful assistant that answers programming questions in the style of a rancher from the western United States.' },\n    {'role': 'user', 'content': 'Are semicolons optional in JavaScript?'},\n    {'role': 'assistant', 'content': \"Well, howdy there, partner! I reckon you're askin' about semicolons in JavaScript, eh? …, and may your code always be tidy!\"},\n    {'role': 'user', 'content': 'So to be clear, my code will not break with out them?'}\n    ]\n\noptions = {\n    'guardrails': True\n}\n\nfrom snowflake.cortex import Complete\n\nresponse = Complete(\"llama3.1-405b\", messages_with_history, options = options)\n\nresponse\n",
   "execution_count": null
  },
  {
   "cell_type": "markdown",
   "id": "f9c15527-c4e5-4b33-8c6e-ad9b7045b414",
   "metadata": {
    "name": "cell36",
    "collapsed": false,
    "resultHeight": 74
   },
   "source": "# Temperature"
  },
  {
   "cell_type": "code",
   "id": "f710627a-4bc7-4af3-8dfa-fe2b599c7b61",
   "metadata": {
    "language": "python",
    "name": "cell31",
    "resultHeight": 373,
    "codeCollapsed": false
   },
   "outputs": [],
   "source": "options = {\n    'guardrails': True,\n    'temperature': 0.9\n}\n\nresponse = Complete(\"llama3.1-405b\", messages_with_history, options = options)\n\nresponse\n",
   "execution_count": null
  },
  {
   "cell_type": "markdown",
   "id": "7b5ef04c-b137-4433-ac4c-42538081ecf1",
   "metadata": {
    "name": "cell37",
    "collapsed": false,
    "resultHeight": 74
   },
   "source": "# Top P"
  },
  {
   "cell_type": "code",
   "id": "bbfdb7ff-33c7-4801-9c75-2d9b0a46b2ea",
   "metadata": {
    "language": "python",
    "name": "cell32",
    "resultHeight": 373,
    "codeCollapsed": false
   },
   "outputs": [],
   "source": "options = {\n    'guardrails': True,\n    'top_p': 0.9\n}\n\nresponse = Complete(\"llama3.1-405b\", messages_with_history, options = options)\n\nresponse",
   "execution_count": null
  },
  {
   "cell_type": "markdown",
   "id": "835fcb50-321c-4e70-9255-4473d7ef092a",
   "metadata": {
    "name": "cell38",
    "collapsed": false,
    "resultHeight": 74
   },
   "source": "# Max Tokens"
  },
  {
   "cell_type": "code",
   "id": "98c7729c-776c-42e9-bf56-ba32a05aea78",
   "metadata": {
    "language": "python",
    "name": "cell39",
    "resultHeight": 345,
    "collapsed": false
   },
   "outputs": [],
   "source": "messages = [\n    {'role': 'system', 'content': 'You are a helpful assistant that decides if a call transcript needs follow-up. You only respond by saying YES or NO.' },\n    {'role': 'user', 'content': \"Call Transcript: Your billing department is a disaster! I've been overcharged three times this month. Please refund me\"}\n]\n\noptions = {\"max_tokens\": 1}\n\nresponse = Complete(\"llama3.2-1b\", messages, options = options)\n\nresponse",
   "execution_count": null
  },
  {
   "cell_type": "code",
   "id": "d128374c-135c-42b9-9d09-023b141c6c24",
   "metadata": {
    "language": "sql",
    "name": "cell33",
    "resultHeight": 427,
    "codeCollapsed": false
   },
   "outputs": [],
   "source": "SELECT SNOWFLAKE.CORTEX.COMPLETE(\n    'llama2-70b-chat',\n    [\n        {\n            'role': 'system',\n            'content': 'You are a helpful assistant that decides if a call transcript needs follow-up. You only respond by saying YES or NO.'\n        },\n        {\n            'role': 'user',\n            'content': transcript\n        }\n    ],\n    {'max_tokens': 1}\n) AS followup_needed\nFROM CALL_TRANSCRIPTS\nLIMIT 10;\n",
   "execution_count": null
  }
 ]
}