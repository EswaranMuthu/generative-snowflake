{
 "metadata": {
  "kernelspec": {
   "display_name": "Streamlit Notebook",
   "name": "streamlit"
  }
 },
 "nbformat_minor": 5,
 "nbformat": 4,
 "cells": [
  {
   "cell_type": "markdown",
   "id": "c37f4892-bc2f-4250-98a2-d7e20f5edfe0",
   "metadata": {
    "name": "cell9",
    "collapsed": false,
    "resultHeight": 74
   },
   "source": "# Setup"
  },
  {
   "cell_type": "code",
   "id": "3775908f-ca36-4846-8f38-5adca39217f2",
   "metadata": {
    "language": "python",
    "name": "cell1",
    "collapsed": false,
    "resultHeight": 0,
    "codeCollapsed": false
   },
   "source": "# set up snowpark session\nfrom snowflake.snowpark.context import get_active_session\nsession = get_active_session()",
   "execution_count": null,
   "outputs": []
  },
  {
   "cell_type": "markdown",
   "id": "b6d74cd3-5c0b-4aed-8770-d60c3328e28d",
   "metadata": {
    "name": "cell21",
    "collapsed": false,
    "resultHeight": 74
   },
   "source": "# Introduction to Complete"
  },
  {
   "cell_type": "code",
   "id": "ee4d1a1b-fe0a-46b0-91cf-476492a48f22",
   "metadata": {
    "language": "python",
    "name": "cell4",
    "resultHeight": 754,
    "codeCollapsed": false,
    "collapsed": false
   },
   "outputs": [],
   "source": "from snowflake.cortex import Complete\n\nComplete(\"llama3.1-405b\", \"how do snowflakes get their unique patterns?\")",
   "execution_count": null
  },
  {
   "cell_type": "markdown",
   "id": "4a6a8838-3a3a-49a8-9da4-5f44394a163f",
   "metadata": {
    "name": "cell20",
    "collapsed": false,
    "resultHeight": 74
   },
   "source": "# Introduction to Task-specific Functions"
  },
  {
   "cell_type": "markdown",
   "id": "a5b686ac-80ba-4aca-926f-d23f1e0b8f5a",
   "metadata": {
    "name": "cell3",
    "collapsed": false,
    "resultHeight": 74
   },
   "source": "# Translate"
  },
  {
   "cell_type": "code",
   "id": "aafda587-453f-4792-bbe6-a51ca52b2b6a",
   "metadata": {
    "language": "python",
    "name": "cell5",
    "resultHeight": 60,
    "codeCollapsed": false,
    "collapsed": false
   },
   "outputs": [],
   "source": "from snowflake.cortex import Translate\n\nTranslate(\"Snowflakes get their unique patterns through a combination of temperature, humidity, and air currents in the atmosphere.\", \"en\", \"fr\")",
   "execution_count": null
  },
  {
   "cell_type": "code",
   "id": "86d00d4b-e79f-476e-8aa5-c74cbaa1f8d1",
   "metadata": {
    "language": "python",
    "name": "cell12",
    "resultHeight": 54,
    "collapsed": false
   },
   "outputs": [],
   "source": "from snowflake.cortex import Translate\n\nTranslate(\"Les flocons de neige obtiennent leurs modèles uniques grâce à une combinaison de température, d’humidité et de courants atmosphériques.\", \"\", \"en\")",
   "execution_count": null
  },
  {
   "cell_type": "code",
   "id": "5e907a7d-897c-4340-8fef-659837e2a13e",
   "metadata": {
    "language": "sql",
    "name": "cell6",
    "collapsed": false,
    "resultHeight": 427
   },
   "outputs": [],
   "source": "CREATE OR REPLACE TABLE call_transcripts AS\nSELECT *, SNOWFLAKE.CORTEX.TRANSLATE(transcript, '', 'en') AS EN_TRANSCRIPT\nFROM call_transcripts;\n\nSELECT * FROM call_transcripts LIMIT 10;",
   "execution_count": null
  },
  {
   "cell_type": "markdown",
   "id": "165cb043-496c-49c1-bf73-18897689944f",
   "metadata": {
    "name": "cell19",
    "collapsed": false,
    "resultHeight": 74
   },
   "source": "# Sentiment"
  },
  {
   "cell_type": "code",
   "id": "0add9369-43f3-4f36-88f5-0c4c4c939e91",
   "metadata": {
    "language": "sql",
    "name": "cell16",
    "resultHeight": 427,
    "codeCollapsed": false,
    "collapsed": false
   },
   "outputs": [],
   "source": "SELECT transcript, \n    SNOWFLAKE.CORTEX.SENTIMENT(en_transcript) AS SENTIMENT\nFROM call_transcripts\nLIMIT 10;",
   "execution_count": null
  },
  {
   "cell_type": "markdown",
   "id": "88aafa5d-e610-4ab8-a494-3aafd4d40030",
   "metadata": {
    "name": "cell13",
    "collapsed": false,
    "resultHeight": 74
   },
   "source": "# Summarize"
  },
  {
   "cell_type": "code",
   "id": "6c1ef790-572f-42b1-aa55-b33953c42bd3",
   "metadata": {
    "language": "python",
    "name": "cell15",
    "codeCollapsed": false,
    "resultHeight": 0,
    "collapsed": false
   },
   "outputs": [],
   "source": "from snowflake.cortex import Summarize\n\ntext = \"\"\"\nA snowflake is a single ice crystal that has achieved a sufficient size, and may have amalgamated with others, which falls through the Earth's atmosphere as snow.\nEach flake nucleates around a tiny particle in supersaturated air masses by attracting supercooled cloud water droplets, which freeze and accrete in crystal form. \nSnow appears white in color despite being made of clear ice. \nThis is due to diffuse reflection of the whole spectrum of light by the small crystal facets of the snowflakes.\n\"\"\"\n\nSummarize(text)\n",
   "execution_count": null
  },
  {
   "cell_type": "markdown",
   "id": "7bd3ad0b-71db-45fb-b998-db88a498eca9",
   "metadata": {
    "name": "cell22",
    "collapsed": false,
    "resultHeight": 74
   },
   "source": "# Text Classification"
  },
  {
   "cell_type": "code",
   "id": "7c0215de-1f2c-4167-9920-aff6615811e9",
   "metadata": {
    "language": "sql",
    "name": "cell17",
    "codeCollapsed": false,
    "resultHeight": 439,
    "collapsed": false
   },
   "outputs": [],
   "source": "SELECT *,\nSNOWFLAKE.CORTEX.CLASSIFY_TEXT(en_transcript, ['refund', 'replacement']) AS text_classify_output\nFROM call_transcripts\nLIMIT 50;",
   "execution_count": null
  },
  {
   "cell_type": "code",
   "id": "8d2209ea-5679-489f-bfbd-a6226671ae44",
   "metadata": {
    "language": "sql",
    "name": "cell23",
    "resultHeight": 439,
    "codeCollapsed": false,
    "collapsed": false
   },
   "outputs": [],
   "source": "SELECT *,\nSNOWFLAKE.CORTEX.CLASSIFY_TEXT(\n  en_transcript,\n  [\n    {\n      'label': 'Refund',\n      'description': 'questions or issues related to refunding the order amount',\n      'examples': [\n        'Hi, I noticed a defective product was delivered to me. I need a refund',\n        'I received the wrong size of ski gear in my recent order. I would like to request a refund for this item.',\n        'The ski gear delivered does not match the product description on your website. I need a refund.'\n      ]\n    },\n    {\n      'label': 'Replacement',\n      'description': 'questions or issues related to replacing a product order',\n      'examples': [\n        'The snowboard I received was damaged during shipping. It has visible dents and scratches that affect its performance. I would appreciate it if you could send a replacement',\n        'The ski goggles I received do not match the product description on your website. They lack the anti-fog coating that was advertised. Could you please provide a replacement that meets the described specifications?'\n      ]\n    }\n  ],\n  {'task_description': 'Return a classification of the type of issue described in the request'}\n) AS text_classify_output\nFROM call_transcripts;\n",
   "execution_count": null
  },
  {
   "cell_type": "code",
   "id": "590311f3-82bc-4448-94c5-69f006273a4d",
   "metadata": {
    "language": "python",
    "name": "cell24",
    "resultHeight": 0,
    "collapsed": false
   },
   "outputs": [],
   "source": "from snowflake.cortex import ClassifyText\n\nClassifyText(\"How can I buy a ticket for the Subway?\", [\"how to\", \"recommendations\"])",
   "execution_count": null
  },
  {
   "cell_type": "code",
   "id": "a9d7eef1-27ce-4c50-b151-d406dcb3c9c0",
   "metadata": {
    "language": "python",
    "name": "cell25",
    "codeCollapsed": false,
    "resultHeight": 0,
    "collapsed": false
   },
   "outputs": [],
   "source": "ClassifyText(\"What is the best broadway show to see right now?\", [\"how to\", \"recommendations\"])",
   "execution_count": null
  },
  {
   "cell_type": "markdown",
   "id": "4d5ec720-f336-4b6f-a6f0-36ea0e31b811",
   "metadata": {
    "name": "cell7",
    "collapsed": false,
    "resultHeight": 74
   },
   "source": "# Intro to Helper Functions"
  },
  {
   "cell_type": "markdown",
   "id": "e4a7afb6-664c-4de4-833d-22c2b1d783e1",
   "metadata": {
    "name": "cell11",
    "collapsed": false,
    "resultHeight": 74
   },
   "source": "# TRY_COMPLETE()"
  },
  {
   "cell_type": "code",
   "id": "1026d5b8-18e0-4414-b7cc-235381909147",
   "metadata": {
    "language": "sql",
    "name": "cell8",
    "collapsed": false,
    "resultHeight": 135
   },
   "outputs": [],
   "source": "SELECT SNOWFLAKE.CORTEX.COMPLETE(\n    'llama2-70b-chaty',\n    [\n        {\n            'role': 'user',\n            'content': 'how does a snowflake get its unique pattern?'\n        }\n    ],\n    {\n        'temperature': 0.7,\n        'max_tokens': 10\n    }\n);",
   "execution_count": null
  },
  {
   "cell_type": "code",
   "id": "65f44833-e63a-4862-b946-229e04b1e042",
   "metadata": {
    "language": "sql",
    "name": "cell10",
    "collapsed": false,
    "resultHeight": 112
   },
   "outputs": [],
   "source": "SELECT SNOWFLAKE.CORTEX.TRY_COMPLETE(\n    'llama2-70b-chaty',\n    [\n        {\n            'role': 'user',\n            'content': 'how does a snowflake get its unique pattern?'\n        }\n    ],\n    {\n        'temperature': 0.7,\n        'max_tokens': 10\n    }\n);",
   "execution_count": null
  },
  {
   "cell_type": "markdown",
   "id": "5605dc00-fa08-47c2-b7bf-56b8efc1f8e9",
   "metadata": {
    "name": "cell14",
    "collapsed": false,
    "resultHeight": 74
   },
   "source": "# COUNT_TOKEN()"
  },
  {
   "cell_type": "code",
   "id": "002f7517-adb1-475b-9d53-c96dffabaaf0",
   "metadata": {
    "language": "sql",
    "name": "cell18",
    "collapsed": false,
    "resultHeight": 112
   },
   "outputs": [],
   "source": "SELECT SNOWFLAKE.CORTEX.COUNT_TOKENS( 'llama3.1-70b', \n    'To be Jedi is to face the truth, and choose. Give off light, or darkness, Padawan. Be a candle, or the night.') \n    AS number_of_tokens;\n",
   "execution_count": null
  },
  {
   "cell_type": "code",
   "id": "d9fedb04-28c8-42ae-aec3-1ac3b8d78550",
   "metadata": {
    "language": "sql",
    "name": "cell28",
    "collapsed": false,
    "resultHeight": 112
   },
   "outputs": [],
   "source": "SELECT SNOWFLAKE.CORTEX.COUNT_TOKENS( 'mistral-7b', \n    'To be Jedi is to face the truth, and choose. Give off light, or darkness, Padawan. Be a candle, or the night.') \n    AS number_of_tokens;",
   "execution_count": null
  }
 ]
}